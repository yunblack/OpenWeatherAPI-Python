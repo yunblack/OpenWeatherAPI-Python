{
 "cells": [
  {
   "cell_type": "code",
   "execution_count": 1,
   "metadata": {},
   "outputs": [
    {
     "name": "stdout",
     "output_type": "stream",
     "text": [
      "+ 도시 = Seoul\n",
      "| 날씨 = overcast clouds\n",
      "| 최저 기온 = 10.0\n",
      "| 최고 기온 = 11.0\n",
      "| 습도 = 46\n",
      "| 기압 = 1016\n",
      "| 풍향 = 61\n",
      "| 풍속 = 3.72\n",
      "\n"
     ]
    }
   ],
   "source": [
    "import requests\n",
    "import json\n",
    "\n",
    "apikey = \"474d59dd890c4108f62f192e0c6fce01\"\n",
    "cities = [\"Seoul,KR\"] ##\n",
    "api = \"http://api.openweathermap.org/data/2.5/weather?q={city}&APPID={key}\"\n",
    "\n",
    "k2c = lambda k: k - 273.15\n",
    "\n",
    "for name in cities:\n",
    "  \n",
    "    url = api.format(city=name, key=apikey)\n",
    "    r = requests.get(url)\n",
    "    data = json.loads(r.text)      \n",
    "    \n",
    "    print(\"City Name =\", data[\"name\"])\n",
    "    print(\"Weather =\", data[\"weather\"][0][\"description\"])\n",
    "    print(\"Lowest Temperature =\", k2c(data[\"main\"][\"temp_min\"]))\n",
    "    print(\"Highest Temperature=\", k2c(data[\"main\"][\"temp_max\"]))\n",
    "    print(\"Humidity =\", data[\"main\"][\"humidity\"])\n",
    "    print(\"Pressure =\", data[\"main\"][\"pressure\"])\n",
    "    print(\"Air Direction =\", data[\"wind\"][\"deg\"])\n",
    "    print(\"Air Velocity =\", data[\"wind\"][\"speed\"])\n",
    "    print(\"\")\n",
    "    \n",
    "    from IPython.core.interactiveshell import InteractiveShell\n",
    "InteractiveShell.ast_node_interactivity = \"all\""
   ]
  },
  {
   "cell_type": "code",
   "execution_count": null,
   "metadata": {},
   "outputs": [],
   "source": []
  }
 ],
 "metadata": {
  "kernelspec": {
   "display_name": "Python 3",
   "language": "python",
   "name": "python3"
  },
  "language_info": {
   "codemirror_mode": {
    "name": "ipython",
    "version": 3
   },
   "file_extension": ".py",
   "mimetype": "text/x-python",
   "name": "python",
   "nbconvert_exporter": "python",
   "pygments_lexer": "ipython3",
   "version": "3.7.4"
  }
 },
 "nbformat": 4,
 "nbformat_minor": 2
}
